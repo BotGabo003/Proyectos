{
 "cells": [
  {
   "cell_type": "code",
   "execution_count": null,
   "id": "7113eedf",
   "metadata": {},
   "outputs": [],
   "source": [
    "#Crea una función que reciba una palabra y devuelva True si contiene la letra \"a\", y False si no.\n",
    "\n",
    "def test ():\n",
    "    palabra=str(input(\"Ingrese una palabra\"))\n",
    "    for i in palabra:\n",
    "        if i== \"a\" or i== \"A\":\n",
    "            return True\n",
    "    return\n",
    "imprimir=test()\n",
    "print(imprimir)\n",
    "\n",
    "\n",
    "\n"
   ]
  },
  {
   "cell_type": "code",
   "execution_count": null,
   "id": "b0e3ed8f",
   "metadata": {},
   "outputs": [],
   "source": [
    "#Crear una función que reciba dos palabras:\n",
    "palabra=\"contraseña\"\n",
    "\n",
    "def comparar():\n",
    "    palabra2=str(input(\"Ingrese su contraseña\"))\n",
    "    if palabra==palabra2:\n",
    "        return \"Correcto\"\n",
    "    return\"Incorrecto\"\n",
    "\n",
    "imprimir=comparar()\n",
    "print(imprimir)"
   ]
  },
  {
   "cell_type": "code",
   "execution_count": null,
   "id": "830e6b08",
   "metadata": {},
   "outputs": [],
   "source": [
    "lista=[]\n",
    "repeticiones=0\n",
    "while repeticiones != 3:\n",
    "        repeticiones=repeticiones+1\n",
    "        listado=str(input(\"Ingrese las palabras de su lista\"))\n",
    "        lista.append(listado)\n",
    "palabra=str(input(\"Ingrese su palabra\"))\n",
    "def recorrido(listado,palabra):\n",
    "    for i in lista:\n",
    "          if i==palabra:\n",
    "                return \"Encontrado\"\n",
    "          return \"No Encontrado\"\n",
    "imprimir=recorrido(listado,palabra)  \n",
    "print(imprimir)  \n",
    "\n"
   ]
  },
  {
   "cell_type": "code",
   "execution_count": null,
   "id": "c803f346",
   "metadata": {},
   "outputs": [],
   "source": []
  },
  {
   "cell_type": "code",
   "execution_count": null,
   "id": "9f9f1693",
   "metadata": {},
   "outputs": [],
   "source": []
  },
  {
   "cell_type": "code",
   "execution_count": null,
   "id": "4e446bb2",
   "metadata": {},
   "outputs": [],
   "source": [
    "repeticiones=0\n",
    "while repeticiones !=3:\n",
    "    repeticiones=repeticiones+1\n",
    "    listado=str(input(\"Ingrese palabras para su lista\"))\n",
    "    lista.append(listado)\n",
    "palabra=str(input(\"Ingrese la palabra que quiere buscar\"))\n",
    "\n",
    "def comparar(palabra,listado):\n",
    "    for i in range(len(lista)):\n",
    "        if lista[i]==palabra:\n",
    "           return f\"Se encontro la palabra {palabra} en la posision {i}\"\n",
    "    return f\"No se encontro la palabra {palabra} en la lista\"\n",
    "\n",
    "imprimir=comparar(palabra,listado)\n",
    "print(imprimir) "
   ]
  },
  {
   "cell_type": "code",
   "execution_count": 11,
   "id": "aae4585e",
   "metadata": {},
   "outputs": [
    {
     "name": "stdout",
     "output_type": "stream",
     "text": [
      "Usted tiene 5 intentos\n",
      "Adivine la palabra de 4 letras\n",
      "Adivinaste vino era la palabra secreta\n",
      "[]\n"
     ]
    }
   ],
   "source": [
    "intentos=0\n",
    "palabra_secreta=\"vino\"\n",
    "print(\"Usted tiene 5 intentos\")\n",
    "print(\"Adivine la palabra de 4 letras\")\n",
    "def comparar(palabra):\n",
    "    lista=[]\n",
    "    for i in range(4):\n",
    "        if palabra[i]==palabra_secreta[i]:\n",
    "             lista.append(palabra[i])\n",
    "        else:\n",
    "            lista.append(\"X\")\n",
    "    return lista\n",
    "def cantidad(palabra):\n",
    "     if len(palabra)!=4:\n",
    "        return False\n",
    "     return True\n",
    "cinco=cantidad(palabra)\n",
    "while intentos!=5:\n",
    "    palabra=str(input(\"Ingrese su palabra\"))\n",
    "    if cinco==False:\n",
    "        print(\"Ingrese una palabra de 5 letras\")\n",
    "        intentos=intentos-1\n",
    "        break\n",
    "    else:\n",
    "        if palabra_secreta==palabra:\n",
    "            print(f\"Adivinaste {palabra} era la palabra secreta\")\n",
    "            break\n",
    "print(lista)\n",
    "\n"
   ]
  },
  {
   "cell_type": "code",
   "execution_count": 12,
   "id": "f2fba9bb",
   "metadata": {},
   "outputs": [
    {
     "name": "stdout",
     "output_type": "stream",
     "text": [
      "Usted tiene 5 intentos\n",
      "Adivine la palabra de 4 letras\n",
      "Resultado: ['v', 'i', 'n', 'X']\n",
      "Adivinaste vino era la palabra secreta\n"
     ]
    }
   ],
   "source": [
    "intentos = 0\n",
    "palabra_secreta = \"vino\"\n",
    "\n",
    "print(\"Usted tiene 5 intentos\")\n",
    "print(\"Adivine la palabra de 4 letras\")\n",
    "\n",
    "def comparar(palabra):\n",
    "    lista = []\n",
    "    for i in range(4):\n",
    "        if palabra[i] == palabra_secreta[i]:\n",
    "            lista.append(palabra[i])\n",
    "        else:\n",
    "            lista.append(\"X\")\n",
    "    return lista\n",
    "\n",
    "def cantidad(palabra):\n",
    "    if len(palabra) == 4:\n",
    "        return True\n",
    "    else:\n",
    "        return False\n",
    "\n",
    "while intentos != 5:\n",
    "    palabra = input(\"Ingrese su palabra: \")\n",
    "\n",
    "    if palabra == palabra_secreta:\n",
    "        print(f\"Adivinaste {palabra} era la palabra secreta\")\n",
    "        break\n",
    "\n",
    "    es_correcta = cantidad(palabra)\n",
    "    if es_correcta == False:\n",
    "        print(\"Ingrese una palabra de 4 letras\")\n",
    "        continue  # No suma intento\n",
    "\n",
    "    resultado = comparar(palabra)\n",
    "    print(\"Resultado:\", resultado)\n",
    "\n",
    "    intentos = intentos + 1\n",
    "\n",
    "if intentos == 5:\n",
    "    print(\"Se acabaron los intentos. La palabra era:\", palabra_secreta)\n"
   ]
  }
 ],
 "metadata": {
  "kernelspec": {
   "display_name": "Python 3",
   "language": "python",
   "name": "python3"
  },
  "language_info": {
   "codemirror_mode": {
    "name": "ipython",
    "version": 3
   },
   "file_extension": ".py",
   "mimetype": "text/x-python",
   "name": "python",
   "nbconvert_exporter": "python",
   "pygments_lexer": "ipython3",
   "version": "3.11.9"
  }
 },
 "nbformat": 4,
 "nbformat_minor": 5
}
