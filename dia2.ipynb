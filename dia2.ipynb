{
 "cells": [
  {
   "cell_type": "code",
   "execution_count": null,
   "id": "c519cf35",
   "metadata": {},
   "outputs": [],
   "source": [
    "edad=int(input('Ingrese su edad='))\n",
    "if edad>=18 and edad<21:\n",
    "    print('Puedes tomar pero no comprar')\n",
    "elif edad<18:\n",
    "    print('Juguito nomas rey')\n",
    "else:\n",
    "    print('Hace lo que quieras')\n",
    "\n"
   ]
  },
  {
   "cell_type": "code",
   "execution_count": null,
   "id": "f7ac5eac",
   "metadata": {},
   "outputs": [],
   "source": [
    "\n",
    "print('----------------------------------------------')\n",
    "def pedidos_de_compra(marca,tipo,codigo):\n",
    "    print('----------------Lista de compras----------')\n",
    "    print(f'Marca de Herramienta={marca}')\n",
    "    print(f'Tipo de Herramienta={tipo}')\n",
    "    print(f'Codigo de Herramienta={codigo}')\n",
    "\n",
    "pedidos_de_compra('Tools','Destornillador','10110')\n",
    "pedidos_de_compra('Brinstone','Llave Inglesa','10010')\n",
    "pedidos_de_compra('Tramontina','Set de LLaves','10110')\n",
    "pedidos_de_compra('Durex','Abridor','10000')\n",
    "print('----------------------------------------------')"
   ]
  },
  {
   "cell_type": "code",
   "execution_count": null,
   "id": "59f0ec22",
   "metadata": {},
   "outputs": [],
   "source": [
    "temperatura=int(input('Que temperatura hace='))\n",
    "if temperatura>=-10 and temperatura<18:\n",
    "    print(f'La temperatura es {temperatura}°C , Fresquito nms')\n",
    "elif temperatura>=19 and temperatura<=30:\n",
    "    print(f'La temperatura es {temperatura}°C , Calorcito')\n",
    "    \n",
    "elif temperatura>=31 and temperatura<=45:\n",
    "    print(f'La temperatura es {temperatura}°C , Hakuroooo')\n",
    "else:\n",
    "    print(f'La temperatura es {temperatura}°C , off los vago')\n"
   ]
  },
  {
   "cell_type": "code",
   "execution_count": null,
   "id": "cbf92d1f",
   "metadata": {},
   "outputs": [],
   "source": [
    "contrasena='VinoLover'\n",
    "while True:\n",
    "    intento=str(input('Ingrese su contrasena='))\n",
    "    if  intento==contrasena:\n",
    "        print('La contrasena es correcta,adelante papu')\n",
    "        break\n",
    "    else:\n",
    "        print('La contrasena es incorrecta,vuelva a intentarlo')\n"
   ]
  },
  {
   "cell_type": "code",
   "execution_count": null,
   "id": "daf89c65",
   "metadata": {},
   "outputs": [],
   "source": [
    "\n",
    "print('-------------------------------------------------------------------------------')\n",
    "lista=['rojo','blanco','azul','negro','amarillo']\n",
    "print(f'La lista de colores es={lista}')\n",
    "print('-----------------Agregar color-------------------------------------------------')\n",
    "lista.append('verde')\n",
    "print(f'La lista de colores es={lista}')\n",
    "print('----Modificacion del segundo color---------------------------------------------')\n",
    "lista[1]='Gris'\n",
    "print(f'La lista de colores es={lista}')\n",
    "print('--------Eliminar el tercer color-----------------------------------------------')\n",
    "lista.pop(2)\n",
    "print(f'La lista de colores es={lista}')\n",
    "print('-------------------------------------------------------------------------------')\n",
    "print(f'La cantidad de colores son',len(lista))\n",
    "\n"
   ]
  },
  {
   "cell_type": "code",
   "execution_count": null,
   "id": "61f29eec",
   "metadata": {},
   "outputs": [],
   "source": [
    "\n",
    "for numero in range(10):\n",
    "    numero=numero+1\n",
    "    numero=numero*2\n",
    "    print(numero)"
   ]
  },
  {
   "cell_type": "code",
   "execution_count": null,
   "id": "6d3f0d65",
   "metadata": {},
   "outputs": [],
   "source": [
    "lista=['Mercedes','Toyota','Fiat','Fort','Dogde']\n",
    "\n",
    "for cantidad in lista:\n",
    " if len(cantidad)>=6:\n",
    "    print(cantidad)"
   ]
  },
  {
   "cell_type": "code",
   "execution_count": null,
   "id": "d45541f1",
   "metadata": {},
   "outputs": [],
   "source": [
    "palabra=str(input('Ingrese una frase'))\n",
    "for letra in palabra:\n",
    "    if letra =='o':\n",
    "        print('hay una letra O')\n",
    "        break\n",
    "else:\n",
    "        print(palabra)"
   ]
  },
  {
   "cell_type": "code",
   "execution_count": null,
   "id": "3361cbb3",
   "metadata": {},
   "outputs": [],
   "source": [
    "while True:\n",
    "    insert=int(input(\"Ingrese un numero\"))\n",
    "    if insert % 2 == 0 :\n",
    "        print(\"El numero es divisible par\")\n",
    "    else:\n",
    "        print()"
   ]
  },
  {
   "cell_type": "code",
   "execution_count": null,
   "id": "ca55a432",
   "metadata": {},
   "outputs": [],
   "source": [
    "\n",
    "palabra1=str(input(\"Ingrese una letra\"))\n",
    "palabra2=str(input(\"Ingrese una letra\"))\n",
    "if len(palabra1)>1 and len(palabra2)>1:\n",
    "    print(\"Por favor ingrese solo una letra\")\n",
    "\n",
    "def palabras(palabra1,palabra2):\n",
    "    if palabra1==palabra2:\n",
    "        print(\"Las letras son iguales\")\n",
    "    else:\n",
    "        print(\"Las letras son diferentes\")\n",
    "palabras(palabra1,palabra2)\n"
   ]
  },
  {
   "cell_type": "code",
   "execution_count": null,
   "id": "71896828",
   "metadata": {},
   "outputs": [],
   "source": [
    "\n",
    "palabra=str(input(\"Ingrese una palabra\"))\n",
    "numero=int(input(\"Ingrese un numero\"))\n",
    "\n",
    "def comparacion(palabra,numero):\n",
    "    if len(palabra)==(numero):\n",
    "        return True\n",
    "    else:\n",
    "        return False\n",
    "   \n",
    "comparacion(palabra,numero)\n",
    "resultado=comparacion(palabra,numero)\n",
    "print(resultado)\n"
   ]
  },
  {
   "cell_type": "code",
   "execution_count": null,
   "id": "4de60dd7",
   "metadata": {},
   "outputs": [],
   "source": [
    "total=[]\n",
    "for i in range(3):\n",
    "     palabra=input(str(\"Ingrese su palabra\"))\n",
    "     palabras_ingresadas=list(palabra)\n",
    "     total.append(palabras_ingresadas)\n",
    "     print(total)\n",
    " "
   ]
  },
  {
   "cell_type": "code",
   "execution_count": null,
   "id": "7c4a1f36",
   "metadata": {},
   "outputs": [],
   "source": [
    "\n",
    "palabra=\"Vino\"\n",
    "listado=list(palabra)\n",
    "print(listado)\n"
   ]
  },
  {
   "cell_type": "code",
   "execution_count": null,
   "id": "0f1a446c",
   "metadata": {},
   "outputs": [],
   "source": [
    "lista = [['h', 'o', 'l', 'i', 's'], ['h', 'e', 'l', 'l', 'o'], ['h', 'a', 'l', 'l', 'o']]\n",
    "\n",
    "def listado():\n",
    "    linea1=lista[0]\n",
    "    linea2=lista[1]\n",
    "    linea3=lista[2]\n",
    "    print(linea1)\n",
    "    print(linea2)\n",
    "    print(linea3)\n",
    "\n",
    "listado()\n",
    "\n",
    "\n",
    "\n"
   ]
  },
  {
   "cell_type": "code",
   "execution_count": null,
   "id": "f2e52dfd",
   "metadata": {},
   "outputs": [],
   "source": [
    "palabra=\"VinoLover\"\n",
    "intentos=5\n",
    "print(f\"Te quedan {intentos} intentos\")\n",
    "while True:\n",
    "    access=str(input(\"Ingrese la palabra\"))\n",
    "    if access != palabra:\n",
    "        intentos=intentos-1\n",
    "        print(f\"Te quedan {intentos} intentos\")\n",
    "    else:\n",
    "        print(\"La palabra es correcta ganaste\")\n",
    "        break"
   ]
  },
  {
   "cell_type": "code",
   "execution_count": null,
   "id": "6a277645",
   "metadata": {},
   "outputs": [],
   "source": [
    "palabra=\"Vino\"\n",
    "intentos=5\n",
    "lista_correcta=[]\n",
    "while intentos<=5 and intentos!=0:  \n",
    "    prueba=str(input(\"Ingrese una palabra\"))\n",
    "    def verificacion(palabra,prueba):\n",
    "        while True:\n",
    "            if len(prueba)==len(palabra):\n",
    "                break\n",
    "            else:\n",
    "                print(f\"Por Favor,ingrese una palabra de {len(palabra)} letras\")\n",
    "                break\n",
    "    verificacion(palabra,prueba)\n",
    "    def obtener_fila_verificada(palabra, prueba):\n",
    "        cantidad_de_letras = len(palabra)\n",
    "\n",
    "        letras_verficadas = []\n",
    "\n",
    "        for posicion in range(cantidad_de_letras):\n",
    "            letras_son_iguales = prueba[posicion] == palabra[posicion]\n",
    "\n",
    "            la_letra_existe_en_la_palabra = palabra[posicion] in palabra\n",
    "\n",
    "            if letras_son_iguales:\n",
    "\n",
    "                letras_verficadas.append(\"[\" + palabra[posicion] + \"]\")\n",
    "        \n",
    "            elif la_letra_existe_en_la_palabra:\n",
    "                letras_verficadas.append(f\"({palabra[posicion]})\")\n",
    "\n",
    "            else:\n",
    "                letras_verficadas.append(palabra[posicion])\n",
    "\n",
    "            return letras_verficadas\n",
    "    if prueba==palabra:\n",
    "       print(\"Adivinaste la palabra es correcta\")\n",
    "       break\n",
    "    else:\n",
    "       intentos=intentos-1\n",
    "       print(f\"Te quedan {intentos} intentos\")\n",
    "    for i in range(len(palabra)):\n",
    "            if prueba[i]==palabra[i]:\n",
    "                lista_correcta.append(prueba[i])\n",
    "                print(f\"Las letras correctas de las palabras son={lista_correcta}\")\n",
    "            else:\n",
    "                lista_correcta.append(\"/\")\n",
    "    if intentos==0:\n",
    "        print(\"Se te acabaron los intentos\")\n",
    "\n",
    "\n",
    "\n",
    "\n",
    "            \n",
    "        \n"
   ]
  }
 ],
 "metadata": {
  "kernelspec": {
   "display_name": ".venv",
   "language": "python",
   "name": "python3"
  },
  "language_info": {
   "codemirror_mode": {
    "name": "ipython",
    "version": 3
   },
   "file_extension": ".py",
   "mimetype": "text/x-python",
   "name": "python",
   "nbconvert_exporter": "python",
   "pygments_lexer": "ipython3",
   "version": "3.12.3"
  }
 },
 "nbformat": 4,
 "nbformat_minor": 5
}
