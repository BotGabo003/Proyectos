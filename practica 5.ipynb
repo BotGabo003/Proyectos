{
 "cells": [
  {
   "cell_type": "code",
   "execution_count": null,
   "id": "ec54557d",
   "metadata": {},
   "outputs": [],
   "source": [
    "# frutas.append(\"naranja\") # Agrega al final\n",
    "# frutas.remove(\"banana\")  # Elimina un valor\n",
    "# colores.insert(1, \"amarillo\") # Inserta en una posición\n",
    "# frutas.pop()  # Elimina el último elemento  \n",
    "# frutas.sort()  # Ordena la lista de forma ascendente\n",
    "# frutas.reverse()  # Invierte el orden de la lista\n",
    "# frutas.clear()  # Elimina todos los elementos de la lista\n",
    "# frutas.extend([\"kiwi\", \"mango\"])  # Agrega múltiples elementos\n",
    "# frutas.len()  # Devuelve la longitud de la lista\n",
    "\n",
    "\n",
    "# Crea una lista con 5 nombres. Luego, \n",
    "# pide al usuario que ingrese un nombre \n",
    "# y verifica si ese nombre está en la lista. \n",
    "# Si está, muestra un mensaje indicando que fue encontrado. \n",
    "# Si no está, agrega el nombre a la lista.\n",
    "\n",
    "lista=[\"Juan\", \"María\", \"Pedro\", \"Ana\", \"Luis\"]\n",
    "nombre=str(input(\"Ingrese un nombre\"))\n",
    "def nueva_lista():\n",
    "    for i in range(len(lista)):\n",
    "            return i\n",
    "    nueva=nueva_lista()\n",
    "    if nombre==lista[0]:\n",
    "        print(f\"Claro {lista[0]} se encuentra invitado!!\")\n",
    "    elif nombre==lista[1]:\n",
    "        print(f\"Claro {lista[1]} se encuentra invitada!!\")\n",
    "    elif nombre==lista[2]:\n",
    "        print(f\"Claro {lista[2]} se encuentra invitado!!\")\n",
    "    elif nombre==lista[3]:\n",
    "        print(f\"Claro {lista[3]} se encuentra invitado!!\")\n",
    "    else:\n",
    "        lista.append(nombre)\n",
    "        print(f\"No se encontraba registrado,nueva lista de invitados\")\n",
    "        print(nueva)\n",
    "    \n",
    "\n",
    "\n"
   ]
  },
  {
   "cell_type": "code",
   "execution_count": null,
   "id": "1802aed0",
   "metadata": {},
   "outputs": [],
   "source": [
    "# diccionario[\"nombre\"]\n",
    "# Acceder a un valor:\n",
    "# diccionario[\"nombre\"] → devuelve \"Juan\"\n",
    "\n",
    "# Agregar o modificar un valor:\n",
    "# diccionario[\"edad\"] = 31\n",
    "\n",
    "# Eliminar un par clave:valor:\n",
    "# del diccionario[\"ciudad\"]\n",
    "\n",
    "# Obtener todas las claves:\n",
    "# diccionario.keys()\n",
    "\n",
    "# Obtener todos los valores:\n",
    "# diccionario.values()\n",
    "\n",
    "# Recorrer el diccionario:\n",
    "# for clave, valor in diccionario.items():\n",
    "#     print(clave, valor)\n"
   ]
  }
 ],
 "metadata": {
  "kernelspec": {
   "display_name": "Python 3",
   "language": "python",
   "name": "python3"
  },
  "language_info": {
   "codemirror_mode": {
    "name": "ipython",
    "version": 3
   },
   "file_extension": ".py",
   "mimetype": "text/x-python",
   "name": "python",
   "nbconvert_exporter": "python",
   "pygments_lexer": "ipython3",
   "version": "3.11.9"
  }
 },
 "nbformat": 4,
 "nbformat_minor": 5
}
